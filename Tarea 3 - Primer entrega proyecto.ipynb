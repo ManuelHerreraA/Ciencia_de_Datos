{
 "cells": [
  {
   "cell_type": "markdown",
   "id": "11bbfa46-d7e1-4253-8bd1-776992a0ff8b",
   "metadata": {
    "tags": []
   },
   "source": [
    "# <center>**Clasificación y predicción de tipos de estrellas utilizando datos de observación astronómica**</center>"
   ]
  },
  {
   "cell_type": "markdown",
   "id": "a7cff796-69e0-48b6-8e6d-3bf26c0684f2",
   "metadata": {
    "tags": []
   },
   "source": [
    "### <span style=\"color:black; display:inline-block; text-align:left;\">Asesor principal: </span>\n"
   ]
  },
  {
   "cell_type": "markdown",
   "id": "93e7e31b-60a4-4f44-81d7-1c45c1f189dc",
   "metadata": {
    "tags": []
   },
   "source": [
    "### <span style=\"color:black; display:inline-block; text-align:left;\">Autor: Manuel Andrés Herrera Arias</span>\n",
    "\n",
    "Estudiante de pregrado en Física de la Universidad Nacional de Colombia.\n"
   ]
  },
  {
   "cell_type": "markdown",
   "id": "67dde17a-4cde-44e5-be98-38a48e95ddf2",
   "metadata": {
    "tags": []
   },
   "source": [
    "## <left>Introducción</left></span>"
   ]
  },
  {
   "cell_type": "markdown",
   "id": "c06eec04-1b07-4f2a-b58a-2e9c07893da5",
   "metadata": {},
   "source": [
    "Este proyecto aborda la tarea de clasificar y predecir tipos de estrellas a partir de sus características observacionales utilizando redes neuronales. Se aplicarán técnicas de aprendizaje automático para crear un sistema integral capaz de clasificar estrellas en tipos conocidos y realizar predicciones sobre nuevas observaciones estelares."
   ]
  },
  {
   "cell_type": "markdown",
   "id": "fd27ac65-bdcb-4da2-a9f7-1b54a5eecc87",
   "metadata": {
    "tags": []
   },
   "source": [
    "## <left>Descripción del problema</left></span>"
   ]
  },
  {
   "cell_type": "markdown",
   "id": "7fdc540a-10a8-45ba-9b68-f35897ce2de0",
   "metadata": {},
   "source": [
    "La clasificación precisa de tipos de estrellas es esencial para comprender la diversidad estelar y sus propiedades únicas. En este proyecto, se desarrollará un enfoque integral que incluya la clasificación automatizada de estrellas en tipos existentes y la capacidad de predecir el tipo de estrellas no etiquetadas por medio de redes neuronales."
   ]
  },
  {
   "cell_type": "markdown",
   "id": "affc319e-54f3-4be7-887e-f6057c2d6177",
   "metadata": {
    "tags": []
   },
   "source": [
    "## <left>Fuentes de datos</left></span>"
   ]
  },
  {
   "cell_type": "markdown",
   "id": "5e0670d4-1e6a-4473-942d-8c7dc06c963e",
   "metadata": {},
   "source": [
    "Se utilizarán datos de observación astronómica que contienen información sobre parámetros estelares, tales como luminosidad, radio, magnitud absoluta, color, clase espectral y tipo de la estrella.\n",
    "\n",
    "Muchos de estos datos están abiertos al público por medio de observatorios y agencias espaciales. Como un primer conjunto de referencia se tiene un conjunto de datos extraido de Kaggle por medio del siguiente link: <https://www.kaggle.com/datasets/deepu1109/star-dataset?resource=download>"
   ]
  },
  {
   "cell_type": "markdown",
   "id": "81a470dc-2139-4161-9823-39165281a18c",
   "metadata": {
    "tags": []
   },
   "source": [
    "## <left>Procesamiento ETL</left></span>"
   ]
  },
  {
   "cell_type": "markdown",
   "id": "15056443-3404-4490-a2a4-f6b949b95ce6",
   "metadata": {},
   "source": [
    "Los datos serán preprocesados para garantizar su calidad y coherencia. Se realizarán tareas de limpieza, normalización y transformación de características para que sean adecuadas para el entrenamiento y la evaluación."
   ]
  },
  {
   "cell_type": "markdown",
   "id": "7d80ad03-eeb0-4e48-af58-31335ab13d2f",
   "metadata": {
    "tags": []
   },
   "source": [
    "## <left>Exploración de los datos</left></span>"
   ]
  },
  {
   "cell_type": "markdown",
   "id": "9368270b-f041-4876-bcba-0202fd9a4c66",
   "metadata": {},
   "source": [
    "Se tomarán muestras representativas de los datos para tener una vista previa de la distribución de los parámetros estelares. Esto permitirá obtener una idea inicial de cómo están distribuidos los valores en el conjunto de datos.\n",
    "\n",
    "Será útil calcular estadísticas descriptivas como la media, la mediana, la desviación estándar y los cuartiles para cada parámetro cuantitativo para los cuales tenga sentido. Esto proporcionará una visión general de las propiedades de las estrellas y ayudará a identificar valores atípicos. Así, tambien se generarán gráficos univariados, como histogramas y diagramas de caja, para visualizar la distribución y dispersión de cada parámetro estelar por separado. Esto permitirá identificar tendencias y patrones en los datos.\n",
    "\n",
    "Finalmente, los gráficos multivariados serán de gran utilidad para visualizar relaciones entre pares de parámetros estelares."
   ]
  },
  {
   "cell_type": "markdown",
   "id": "0831253f-989c-4089-a5fa-3770a9481563",
   "metadata": {
    "tags": []
   },
   "source": [
    "## <left>Técnicas de modelación propuestas</left></span>"
   ]
  },
  {
   "cell_type": "markdown",
   "id": "3c92b3ef-bbaa-4f42-baab-a661f0c0d159",
   "metadata": {},
   "source": [
    "Aún no se ha discutido con algún profesor."
   ]
  },
  {
   "cell_type": "markdown",
   "id": "e6ab44c2-492e-4de2-b061-a3cc1b118440",
   "metadata": {
    "tags": []
   },
   "source": [
    "## <left>Resultados esperados</left></span>"
   ]
  },
  {
   "cell_type": "markdown",
   "id": "7c708733-626c-4526-9bbd-15481c6097dd",
   "metadata": {},
   "source": [
    "Se espera obtener una red neuronal que sea capaz de clasificar con precisión estrellas en tipos conocidos y realizar predicciones confiables sobre tipos de estrellas no etiquetadas."
   ]
  }
 ],
 "metadata": {
  "kernelspec": {
   "display_name": "Python 3 (ipykernel)",
   "language": "python",
   "name": "python3"
  },
  "language_info": {
   "codemirror_mode": {
    "name": "ipython",
    "version": 3
   },
   "file_extension": ".py",
   "mimetype": "text/x-python",
   "name": "python",
   "nbconvert_exporter": "python",
   "pygments_lexer": "ipython3",
   "version": "3.11.4"
  }
 },
 "nbformat": 4,
 "nbformat_minor": 5
}
