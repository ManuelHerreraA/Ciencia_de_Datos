{
 "cells": [
  {
   "cell_type": "markdown",
   "id": "11bbfa46-d7e1-4253-8bd1-776992a0ff8b",
   "metadata": {
    "tags": []
   },
   "source": [
    "<figure>\n",
    "<img src=\"https://miro.medium.com/v2/resize:fit:750/0*X60InfKLv7nIj0FH.jpg\"  width=\"100\" height=\"100\" align=\"left\"/> \n",
    "</figure>\n",
    "\n",
    "# <left>**Diplomado Ciencia de Datos**</left></span>"
   ]
  },
  {
   "cell_type": "markdown",
   "id": "a7cff796-69e0-48b6-8e6d-3bf26c0684f2",
   "metadata": {
    "tags": []
   },
   "source": [
    "## <span style=\"color:black; display:inline-block; text-align:left;\">Autor: Manuel Andrés Herrera Arias</span>\n",
    "\n",
    "Estudiante de pregrado en Física de la Universidad Nacional de Colombia.\n"
   ]
  },
  {
   "cell_type": "markdown",
   "id": "67dde17a-4cde-44e5-be98-38a48e95ddf2",
   "metadata": {
    "tags": []
   },
   "source": [
    "# <center>Promedio Matemático</center></span>"
   ]
  },
  {
   "cell_type": "markdown",
   "id": "c06eec04-1b07-4f2a-b58a-2e9c07893da5",
   "metadata": {},
   "source": [
    "El promedio matemático, también conocido como media aritmética, es un concepto estadístico fundamental utilizado para representar un valor típico de un conjunto de datos numéricos. Se calcula sumando todos los valores y dividiendo esa suma por el número total de valores en el conjunto.\n",
    "\n",
    "La fórmula para calcular el promedio matemático de un conjunto de $n$ valores $x_1, x_2, ..., x_n$ es:\n",
    "\n",
    "\\begin{equation}\n",
    "Promedio =\\frac{1}{n} \\sum_{i=1}^{n} x_i\n",
    "\\end{equation}\n",
    "\n",
    "Donde $\\sum_{i=1}^{n} x_i$ representa la suma de todos los valores $x_i$ del conjunto.\n",
    "\n",
    "**Ejemplo:**\n",
    "\n",
    "De un curso de 30 estudiantes, tenemos sus notas definitvas, los cuales son valores entre 0.0 y 5.0. Queremos saber cuál es la nota promedio del curso. Para ello, crearemos 30 números aleatorios entre 0.0 y 5.0 para hallar su promedio."
   ]
  },
  {
   "cell_type": "code",
   "execution_count": 38,
   "id": "bca826e8-877d-4d04-a207-f63c71b0820b",
   "metadata": {
    "tags": []
   },
   "outputs": [
    {
     "name": "stdout",
     "output_type": "stream",
     "text": [
      "Notas de los estudiantes: [0.9 4.7 4.3 1.3 5.  0.6 2.7 1.1 1.2 1.3 2.8 2.6 3.6 0.1 3.5 0.1 0.2 1.3\n",
      " 1.8 4.3 1.1 0.8 0.9 1.5 4.2 5.  1.4 1.9 0.8 3.8]\n",
      "\n",
      "Nota promedio: 2.1599999999999997\n"
     ]
    }
   ],
   "source": [
    "import numpy as np\n",
    "\n",
    "notas = np.random.uniform(0, 5, 30).round(1)\n",
    "\n",
    "print(f'Notas de los estudiantes: {notas}')\n",
    "\n",
    "promedio = np.mean(notas)\n",
    "\n",
    "print(f'\\nNota promedio: {promedio}')"
   ]
  },
  {
   "cell_type": "markdown",
   "id": "99f376fd-88e7-44b9-a32c-429c3420a4a4",
   "metadata": {},
   "source": [
    "Se ha usado la función np.random.uniform() para generar números aleatorios **uniformamente** distribuidos entre 0.0 y 5.0. Además, se usó la función np.mean() de numpy para hallar dicho promedio. Puede verificar en una calculadora que el resultado es correcto.\n",
    "\n",
    "Puede correr varias veces el código y darse cuenta que rara vez el promedio de las notas es mayor que 3.0 o menor que 2.0 ¿Por qué?\n",
    "\n",
    "**Referencias:**\n",
    "\n",
    "*Wikipedia. (s.f.). Promedio. Recuperado de: <https://es.wikipedia.org/wiki/Promedio>"
   ]
  }
 ],
 "metadata": {
  "kernelspec": {
   "display_name": "Python 3 (ipykernel)",
   "language": "python",
   "name": "python3"
  },
  "language_info": {
   "codemirror_mode": {
    "name": "ipython",
    "version": 3
   },
   "file_extension": ".py",
   "mimetype": "text/x-python",
   "name": "python",
   "nbconvert_exporter": "python",
   "pygments_lexer": "ipython3",
   "version": "3.11.4"
  }
 },
 "nbformat": 4,
 "nbformat_minor": 5
}
